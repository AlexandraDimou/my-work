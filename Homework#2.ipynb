{
 "cells": [
  {
   "cell_type": "code",
   "execution_count": 1,
   "metadata": {},
   "outputs": [],
   "source": [
    "#Importing the useful libraries\n",
    "import numpy as np\n",
    "import seaborn as sns \n",
    "import pandas as pd\n",
    "import matplotlib.pyplot as plt\n",
    "\n",
    "%matplotlib inline"
   ]
  },
  {
   "cell_type": "code",
   "execution_count": 2,
   "metadata": {},
   "outputs": [],
   "source": [
    "#Import the dataset\n",
    "df=pd.read_csv('database.csv')"
   ]
  },
  {
   "cell_type": "code",
   "execution_count": 3,
   "metadata": {},
   "outputs": [
    {
     "data": {
      "text/html": [
       "<div>\n",
       "<style scoped>\n",
       "    .dataframe tbody tr th:only-of-type {\n",
       "        vertical-align: middle;\n",
       "    }\n",
       "\n",
       "    .dataframe tbody tr th {\n",
       "        vertical-align: top;\n",
       "    }\n",
       "\n",
       "    .dataframe thead th {\n",
       "        text-align: right;\n",
       "    }\n",
       "</style>\n",
       "<table border=\"1\" class=\"dataframe\">\n",
       "  <thead>\n",
       "    <tr style=\"text-align: right;\">\n",
       "      <th></th>\n",
       "      <th>Latitude</th>\n",
       "      <th>Longitude</th>\n",
       "      <th>Depth</th>\n",
       "      <th>Depth Error</th>\n",
       "      <th>Depth Seismic Stations</th>\n",
       "      <th>Magnitude</th>\n",
       "      <th>Magnitude Error</th>\n",
       "      <th>Magnitude Seismic Stations</th>\n",
       "      <th>Azimuthal Gap</th>\n",
       "      <th>Horizontal Distance</th>\n",
       "      <th>Horizontal Error</th>\n",
       "      <th>Root Mean Square</th>\n",
       "    </tr>\n",
       "  </thead>\n",
       "  <tbody>\n",
       "    <tr>\n",
       "      <th>Latitude</th>\n",
       "      <td>1.000000</td>\n",
       "      <td>0.203546</td>\n",
       "      <td>-0.081020</td>\n",
       "      <td>0.007080</td>\n",
       "      <td>0.433815</td>\n",
       "      <td>0.034987</td>\n",
       "      <td>0.113208</td>\n",
       "      <td>0.315075</td>\n",
       "      <td>0.050794</td>\n",
       "      <td>-0.396768</td>\n",
       "      <td>0.015625</td>\n",
       "      <td>-0.214762</td>\n",
       "    </tr>\n",
       "    <tr>\n",
       "      <th>Longitude</th>\n",
       "      <td>0.203546</td>\n",
       "      <td>1.000000</td>\n",
       "      <td>-0.085861</td>\n",
       "      <td>0.020552</td>\n",
       "      <td>0.015924</td>\n",
       "      <td>0.038579</td>\n",
       "      <td>-0.214609</td>\n",
       "      <td>0.148510</td>\n",
       "      <td>-0.233097</td>\n",
       "      <td>-0.131313</td>\n",
       "      <td>-0.093827</td>\n",
       "      <td>-0.028061</td>\n",
       "    </tr>\n",
       "    <tr>\n",
       "      <th>Depth</th>\n",
       "      <td>-0.081020</td>\n",
       "      <td>-0.085861</td>\n",
       "      <td>1.000000</td>\n",
       "      <td>-0.074609</td>\n",
       "      <td>0.174663</td>\n",
       "      <td>0.023457</td>\n",
       "      <td>-0.076918</td>\n",
       "      <td>-0.015254</td>\n",
       "      <td>-0.171162</td>\n",
       "      <td>-0.073832</td>\n",
       "      <td>-0.016467</td>\n",
       "      <td>-0.134002</td>\n",
       "    </tr>\n",
       "    <tr>\n",
       "      <th>Depth Error</th>\n",
       "      <td>0.007080</td>\n",
       "      <td>0.020552</td>\n",
       "      <td>-0.074609</td>\n",
       "      <td>1.000000</td>\n",
       "      <td>-0.320579</td>\n",
       "      <td>-0.135880</td>\n",
       "      <td>0.618254</td>\n",
       "      <td>-0.093292</td>\n",
       "      <td>0.357704</td>\n",
       "      <td>-0.077423</td>\n",
       "      <td>0.644593</td>\n",
       "      <td>0.094398</td>\n",
       "    </tr>\n",
       "    <tr>\n",
       "      <th>Depth Seismic Stations</th>\n",
       "      <td>0.433815</td>\n",
       "      <td>0.015924</td>\n",
       "      <td>0.174663</td>\n",
       "      <td>-0.320579</td>\n",
       "      <td>1.000000</td>\n",
       "      <td>0.440582</td>\n",
       "      <td>-0.385993</td>\n",
       "      <td>0.813374</td>\n",
       "      <td>-0.420556</td>\n",
       "      <td>0.056619</td>\n",
       "      <td>-0.214959</td>\n",
       "      <td>-0.158620</td>\n",
       "    </tr>\n",
       "    <tr>\n",
       "      <th>Magnitude</th>\n",
       "      <td>0.034987</td>\n",
       "      <td>0.038579</td>\n",
       "      <td>0.023457</td>\n",
       "      <td>-0.135880</td>\n",
       "      <td>0.440582</td>\n",
       "      <td>1.000000</td>\n",
       "      <td>0.135573</td>\n",
       "      <td>-0.003972</td>\n",
       "      <td>-0.233579</td>\n",
       "      <td>-0.092609</td>\n",
       "      <td>-0.078406</td>\n",
       "      <td>0.075865</td>\n",
       "    </tr>\n",
       "    <tr>\n",
       "      <th>Magnitude Error</th>\n",
       "      <td>0.113208</td>\n",
       "      <td>-0.214609</td>\n",
       "      <td>-0.076918</td>\n",
       "      <td>0.618254</td>\n",
       "      <td>-0.385993</td>\n",
       "      <td>0.135573</td>\n",
       "      <td>1.000000</td>\n",
       "      <td>-0.334062</td>\n",
       "      <td>0.567411</td>\n",
       "      <td>-0.076744</td>\n",
       "      <td>0.617721</td>\n",
       "      <td>0.032616</td>\n",
       "    </tr>\n",
       "    <tr>\n",
       "      <th>Magnitude Seismic Stations</th>\n",
       "      <td>0.315075</td>\n",
       "      <td>0.148510</td>\n",
       "      <td>-0.015254</td>\n",
       "      <td>-0.093292</td>\n",
       "      <td>0.813374</td>\n",
       "      <td>-0.003972</td>\n",
       "      <td>-0.334062</td>\n",
       "      <td>1.000000</td>\n",
       "      <td>-0.334864</td>\n",
       "      <td>-0.117606</td>\n",
       "      <td>-0.093143</td>\n",
       "      <td>-0.167473</td>\n",
       "    </tr>\n",
       "    <tr>\n",
       "      <th>Azimuthal Gap</th>\n",
       "      <td>0.050794</td>\n",
       "      <td>-0.233097</td>\n",
       "      <td>-0.171162</td>\n",
       "      <td>0.357704</td>\n",
       "      <td>-0.420556</td>\n",
       "      <td>-0.233579</td>\n",
       "      <td>0.567411</td>\n",
       "      <td>-0.334864</td>\n",
       "      <td>1.000000</td>\n",
       "      <td>-0.033482</td>\n",
       "      <td>0.396450</td>\n",
       "      <td>-0.056217</td>\n",
       "    </tr>\n",
       "    <tr>\n",
       "      <th>Horizontal Distance</th>\n",
       "      <td>-0.396768</td>\n",
       "      <td>-0.131313</td>\n",
       "      <td>-0.073832</td>\n",
       "      <td>-0.077423</td>\n",
       "      <td>0.056619</td>\n",
       "      <td>-0.092609</td>\n",
       "      <td>-0.076744</td>\n",
       "      <td>-0.117606</td>\n",
       "      <td>-0.033482</td>\n",
       "      <td>1.000000</td>\n",
       "      <td>0.126877</td>\n",
       "      <td>0.035778</td>\n",
       "    </tr>\n",
       "    <tr>\n",
       "      <th>Horizontal Error</th>\n",
       "      <td>0.015625</td>\n",
       "      <td>-0.093827</td>\n",
       "      <td>-0.016467</td>\n",
       "      <td>0.644593</td>\n",
       "      <td>-0.214959</td>\n",
       "      <td>-0.078406</td>\n",
       "      <td>0.617721</td>\n",
       "      <td>-0.093143</td>\n",
       "      <td>0.396450</td>\n",
       "      <td>0.126877</td>\n",
       "      <td>1.000000</td>\n",
       "      <td>0.157842</td>\n",
       "    </tr>\n",
       "    <tr>\n",
       "      <th>Root Mean Square</th>\n",
       "      <td>-0.214762</td>\n",
       "      <td>-0.028061</td>\n",
       "      <td>-0.134002</td>\n",
       "      <td>0.094398</td>\n",
       "      <td>-0.158620</td>\n",
       "      <td>0.075865</td>\n",
       "      <td>0.032616</td>\n",
       "      <td>-0.167473</td>\n",
       "      <td>-0.056217</td>\n",
       "      <td>0.035778</td>\n",
       "      <td>0.157842</td>\n",
       "      <td>1.000000</td>\n",
       "    </tr>\n",
       "  </tbody>\n",
       "</table>\n",
       "</div>"
      ],
      "text/plain": [
       "                            Latitude  Longitude     Depth  Depth Error  \\\n",
       "Latitude                    1.000000   0.203546 -0.081020     0.007080   \n",
       "Longitude                   0.203546   1.000000 -0.085861     0.020552   \n",
       "Depth                      -0.081020  -0.085861  1.000000    -0.074609   \n",
       "Depth Error                 0.007080   0.020552 -0.074609     1.000000   \n",
       "Depth Seismic Stations      0.433815   0.015924  0.174663    -0.320579   \n",
       "Magnitude                   0.034987   0.038579  0.023457    -0.135880   \n",
       "Magnitude Error             0.113208  -0.214609 -0.076918     0.618254   \n",
       "Magnitude Seismic Stations  0.315075   0.148510 -0.015254    -0.093292   \n",
       "Azimuthal Gap               0.050794  -0.233097 -0.171162     0.357704   \n",
       "Horizontal Distance        -0.396768  -0.131313 -0.073832    -0.077423   \n",
       "Horizontal Error            0.015625  -0.093827 -0.016467     0.644593   \n",
       "Root Mean Square           -0.214762  -0.028061 -0.134002     0.094398   \n",
       "\n",
       "                            Depth Seismic Stations  Magnitude  \\\n",
       "Latitude                                  0.433815   0.034987   \n",
       "Longitude                                 0.015924   0.038579   \n",
       "Depth                                     0.174663   0.023457   \n",
       "Depth Error                              -0.320579  -0.135880   \n",
       "Depth Seismic Stations                    1.000000   0.440582   \n",
       "Magnitude                                 0.440582   1.000000   \n",
       "Magnitude Error                          -0.385993   0.135573   \n",
       "Magnitude Seismic Stations                0.813374  -0.003972   \n",
       "Azimuthal Gap                            -0.420556  -0.233579   \n",
       "Horizontal Distance                       0.056619  -0.092609   \n",
       "Horizontal Error                         -0.214959  -0.078406   \n",
       "Root Mean Square                         -0.158620   0.075865   \n",
       "\n",
       "                            Magnitude Error  Magnitude Seismic Stations  \\\n",
       "Latitude                           0.113208                    0.315075   \n",
       "Longitude                         -0.214609                    0.148510   \n",
       "Depth                             -0.076918                   -0.015254   \n",
       "Depth Error                        0.618254                   -0.093292   \n",
       "Depth Seismic Stations            -0.385993                    0.813374   \n",
       "Magnitude                          0.135573                   -0.003972   \n",
       "Magnitude Error                    1.000000                   -0.334062   \n",
       "Magnitude Seismic Stations        -0.334062                    1.000000   \n",
       "Azimuthal Gap                      0.567411                   -0.334864   \n",
       "Horizontal Distance               -0.076744                   -0.117606   \n",
       "Horizontal Error                   0.617721                   -0.093143   \n",
       "Root Mean Square                   0.032616                   -0.167473   \n",
       "\n",
       "                            Azimuthal Gap  Horizontal Distance  \\\n",
       "Latitude                         0.050794            -0.396768   \n",
       "Longitude                       -0.233097            -0.131313   \n",
       "Depth                           -0.171162            -0.073832   \n",
       "Depth Error                      0.357704            -0.077423   \n",
       "Depth Seismic Stations          -0.420556             0.056619   \n",
       "Magnitude                       -0.233579            -0.092609   \n",
       "Magnitude Error                  0.567411            -0.076744   \n",
       "Magnitude Seismic Stations      -0.334864            -0.117606   \n",
       "Azimuthal Gap                    1.000000            -0.033482   \n",
       "Horizontal Distance             -0.033482             1.000000   \n",
       "Horizontal Error                 0.396450             0.126877   \n",
       "Root Mean Square                -0.056217             0.035778   \n",
       "\n",
       "                            Horizontal Error  Root Mean Square  \n",
       "Latitude                            0.015625         -0.214762  \n",
       "Longitude                          -0.093827         -0.028061  \n",
       "Depth                              -0.016467         -0.134002  \n",
       "Depth Error                         0.644593          0.094398  \n",
       "Depth Seismic Stations             -0.214959         -0.158620  \n",
       "Magnitude                          -0.078406          0.075865  \n",
       "Magnitude Error                     0.617721          0.032616  \n",
       "Magnitude Seismic Stations         -0.093143         -0.167473  \n",
       "Azimuthal Gap                       0.396450         -0.056217  \n",
       "Horizontal Distance                 0.126877          0.035778  \n",
       "Horizontal Error                    1.000000          0.157842  \n",
       "Root Mean Square                    0.157842          1.000000  "
      ]
     },
     "execution_count": 3,
     "metadata": {},
     "output_type": "execute_result"
    }
   ],
   "source": [
    "#Find the correlations between all features\n",
    "df.corr()"
   ]
  },
  {
   "cell_type": "code",
   "execution_count": 4,
   "metadata": {},
   "outputs": [
    {
     "data": {
      "text/plain": [
       "<AxesSubplot:>"
      ]
     },
     "execution_count": 4,
     "metadata": {},
     "output_type": "execute_result"
    },
    {
     "data": {
      "image/png": "[encoded data removed]",
      "text/plain": [
       "<Figure size 432x288 with 2 Axes>"
      ]
     },
     "metadata": {
      "needs_background": "light"
     },
     "output_type": "display_data"
    }
   ],
   "source": [
    "#Display the graph for all correlations\n",
    "sns.heatmap(df.corr())"
   ]
  },
  {
   "cell_type": "code",
   "execution_count": 5,
   "metadata": {},
   "outputs": [
    {
     "data": {
      "text/html": [
       "<div>\n",
       "<style scoped>\n",
       "    .dataframe tbody tr th:only-of-type {\n",
       "        vertical-align: middle;\n",
       "    }\n",
       "\n",
       "    .dataframe tbody tr th {\n",
       "        vertical-align: top;\n",
       "    }\n",
       "\n",
       "    .dataframe thead th {\n",
       "        text-align: right;\n",
       "    }\n",
       "</style>\n",
       "<table border=\"1\" class=\"dataframe\">\n",
       "  <thead>\n",
       "    <tr style=\"text-align: right;\">\n",
       "      <th></th>\n",
       "      <th>Magnitude Error</th>\n",
       "      <th>Horizontal Error</th>\n",
       "    </tr>\n",
       "  </thead>\n",
       "  <tbody>\n",
       "    <tr>\n",
       "      <th>Magnitude Error</th>\n",
       "      <td>1.000000</td>\n",
       "      <td>0.617721</td>\n",
       "    </tr>\n",
       "    <tr>\n",
       "      <th>Horizontal Error</th>\n",
       "      <td>0.617721</td>\n",
       "      <td>1.000000</td>\n",
       "    </tr>\n",
       "  </tbody>\n",
       "</table>\n",
       "</div>"
      ],
      "text/plain": [
       "                  Magnitude Error  Horizontal Error\n",
       "Magnitude Error          1.000000          0.617721\n",
       "Horizontal Error         0.617721          1.000000"
      ]
     },
     "execution_count": 5,
     "metadata": {},
     "output_type": "execute_result"
    }
   ],
   "source": [
    "#Choose two features with numerical values and find their correlation\n",
    "df[['Magnitude Error', 'Horizontal Error']].corr()"
   ]
  },
  {
   "cell_type": "code",
   "execution_count": 6,
   "metadata": {},
   "outputs": [
    {
     "data": {
      "text/plain": [
       "<AxesSubplot:>"
      ]
     },
     "execution_count": 6,
     "metadata": {},
     "output_type": "execute_result"
    },
    {
     "data": {
      "image/png": "[encoded data removed]",
      "text/plain": [
       "<Figure size 432x288 with 2 Axes>"
      ]
     },
     "metadata": {
      "needs_background": "light"
     },
     "output_type": "display_data"
    }
   ],
   "source": [
    "#A graph for the correlation between the two features\n",
    "sns.heatmap(df[['Magnitude Error', 'Horizontal Error']].corr())"
   ]
  },
  {
   "cell_type": "code",
   "execution_count": 7,
   "metadata": {},
   "outputs": [],
   "source": [
    "from zipfile import ZipFile"
   ]
  },
  {
   "cell_type": "code",
   "execution_count": 8,
   "metadata": {},
   "outputs": [],
   "source": [
    "zipObj = ZipFile('Homework2.zip', 'w')"
   ]
  },
  {
   "cell_type": "code",
   "execution_count": 9,
   "metadata": {},
   "outputs": [],
   "source": [
    "zipObj.write('database.csv')\n",
    "zipObj.write('Homework#2.ipynb')"
   ]
  },
  {
   "cell_type": "code",
   "execution_count": 10,
   "metadata": {},
   "outputs": [],
   "source": [
    "zipObj.close()"
   ]
  },
  {
   "cell_type": "code",
   "execution_count": null,
   "metadata": {},
   "outputs": [],
   "source": []
  }
 ],
 "metadata": {
  "kernelspec": {
   "display_name": "Python 3",
   "language": "python",
   "name": "python3"
  },
  "language_info": {
   "codemirror_mode": {
    "name": "ipython",
    "version": 3
   },
   "file_extension": ".py",
   "mimetype": "text/x-python",
   "name": "python",
   "nbconvert_exporter": "python",
   "pygments_lexer": "ipython3",
   "version": "3.7.10"
  }
 },
 "nbformat": 4,
 "nbformat_minor": 4
}
