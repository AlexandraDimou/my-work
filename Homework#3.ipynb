{
 "cells": [
  {
   "cell_type": "code",
   "execution_count": 1,
   "metadata": {},
   "outputs": [],
   "source": [
    "import random\n",
    "import pyspark as ps\n",
    "import numpy as np\n",
    "import pandas as pd\n",
    "import matplotlib.pyplot as plt\n",
    "\n"
   ]
  },
  {
   "cell_type": "code",
   "execution_count": 2,
   "metadata": {},
   "outputs": [],
   "source": [
    "spark = ps.sql.SparkSession.builder\\\n",
    "        .master('local[4]')\\\n",
    "        .appName('Homework3')\\\n",
    "        .getOrCreate()\n",
    "sc = spark.sparkContext"
   ]
  },
  {
   "cell_type": "code",
   "execution_count": 3,
   "metadata": {},
   "outputs": [],
   "source": [
    "def TwoDiceRoll(n):\n",
    "    d1=DiceRoll(n)\n",
    "    d2=DiceRoll(n)\n",
    "    dsum=[i+j for i,j in zip(d1, d2)]\n",
    "    return dsum"
   ]
  },
  {
   "cell_type": "code",
   "execution_count": 4,
   "metadata": {},
   "outputs": [],
   "source": [
    "def DiceRoll(n):\n",
    "    x=[random.randint(1,6) for _ in range(n)]\n",
    "    return x"
   ]
  },
  {
   "cell_type": "code",
   "execution_count": 5,
   "metadata": {},
   "outputs": [],
   "source": [
    "num=100"
   ]
  },
  {
   "cell_type": "code",
   "execution_count": 6,
   "metadata": {},
   "outputs": [],
   "source": [
    "d1=DiceRoll(num)"
   ]
  },
  {
   "cell_type": "code",
   "execution_count": 7,
   "metadata": {},
   "outputs": [],
   "source": [
    "d2=DiceRoll(num)"
   ]
  },
  {
   "cell_type": "code",
   "execution_count": 8,
   "metadata": {},
   "outputs": [],
   "source": [
    "dsum=TwoDiceRoll(num)"
   ]
  },
  {
   "cell_type": "code",
   "execution_count": 9,
   "metadata": {},
   "outputs": [
    {
     "name": "stdout",
     "output_type": "stream",
     "text": [
      "[6, 1, 1, 6, 4, 6, 6, 1, 4, 3, 2, 4, 3, 6, 5, 3, 2, 5, 1, 2, 2, 3, 5, 3, 1, 3, 4, 2, 5, 2, 6, 6, 6, 6, 6, 1, 6, 5, 4, 6, 4, 6, 2, 4, 5, 5, 1, 2, 1, 6, 2, 4, 1, 6, 6, 2, 1, 5, 4, 4, 4, 5, 3, 1, 5, 3, 4, 6, 1, 3, 5, 4, 1, 5, 3, 5, 5, 2, 2, 2, 2, 5, 2, 4, 5, 1, 5, 5, 3, 2, 3, 4, 1, 3, 5, 6, 1, 4, 1, 5] \n",
      " [1, 4, 5, 6, 2, 2, 2, 6, 6, 6, 4, 5, 5, 1, 3, 1, 6, 1, 2, 6, 3, 5, 6, 3, 5, 5, 1, 1, 1, 3, 4, 4, 4, 6, 3, 4, 5, 5, 1, 4, 5, 3, 1, 3, 3, 2, 4, 3, 6, 2, 4, 2, 6, 2, 4, 2, 2, 6, 4, 3, 3, 3, 6, 4, 5, 4, 2, 3, 1, 1, 6, 5, 4, 5, 1, 1, 5, 6, 3, 3, 4, 5, 2, 2, 6, 2, 6, 4, 5, 3, 2, 5, 6, 4, 3, 6, 2, 4, 6, 6] \n",
      " [9, 11, 6, 5, 12, 3, 6, 7, 3, 7, 8, 4, 6, 9, 8, 11, 6, 6, 4, 8, 4, 6, 6, 8, 4, 5, 5, 9, 7, 6, 7, 2, 11, 4, 3, 6, 10, 4, 7, 3, 8, 5, 9, 11, 3, 5, 5, 6, 7, 5, 9, 8, 3, 9, 4, 9, 6, 9, 6, 9, 7, 4, 6, 7, 6, 4, 6, 7, 6, 8, 2, 3, 7, 6, 10, 2, 5, 4, 9, 11, 6, 5, 5, 3, 11, 11, 9, 10, 5, 5, 6, 11, 8, 9, 9, 10, 8, 8, 10, 9]\n"
     ]
    }
   ],
   "source": [
    "print(d1, \"\\n\", d2, \"\\n\", dsum)"
   ]
  },
  {
   "cell_type": "code",
   "execution_count": 10,
   "metadata": {},
   "outputs": [],
   "source": [
    "data=(d1, d2, dsum)"
   ]
  },
  {
   "cell_type": "code",
   "execution_count": 11,
   "metadata": {},
   "outputs": [],
   "source": [
    "rdd = sc.parallelize(data)"
   ]
  },
  {
   "cell_type": "code",
   "execution_count": 12,
   "metadata": {},
   "outputs": [],
   "source": [
    "columns = ['Dice_1', 'Dice_2', 'Sum']"
   ]
  },
  {
   "cell_type": "code",
   "execution_count": 13,
   "metadata": {},
   "outputs": [],
   "source": [
    "rdd1 = rdd.collect()"
   ]
  },
  {
   "cell_type": "code",
   "execution_count": 14,
   "metadata": {},
   "outputs": [],
   "source": [
    "df = spark.createDataFrame(rdd1, columns)"
   ]
  },
  {
   "cell_type": "code",
   "execution_count": 15,
   "metadata": {
    "scrolled": true
   },
   "outputs": [
    {
     "name": "stdout",
     "output_type": "stream",
     "text": [
      "+------+------+---+---+---+---+---+---+---+---+---+---+---+---+---+---+---+---+---+---+---+---+---+---+---+---+---+---+---+---+---+---+---+---+---+---+---+---+---+---+---+---+---+---+---+---+---+---+---+---+---+---+---+---+---+---+---+---+---+---+---+---+---+---+---+---+---+---+---+---+---+---+---+---+---+---+---+---+---+---+---+---+---+---+---+---+---+---+---+---+---+---+---+---+---+---+---+---+---+----+\n",
      "|Dice_1|Dice_2|Sum| _4| _5| _6| _7| _8| _9|_10|_11|_12|_13|_14|_15|_16|_17|_18|_19|_20|_21|_22|_23|_24|_25|_26|_27|_28|_29|_30|_31|_32|_33|_34|_35|_36|_37|_38|_39|_40|_41|_42|_43|_44|_45|_46|_47|_48|_49|_50|_51|_52|_53|_54|_55|_56|_57|_58|_59|_60|_61|_62|_63|_64|_65|_66|_67|_68|_69|_70|_71|_72|_73|_74|_75|_76|_77|_78|_79|_80|_81|_82|_83|_84|_85|_86|_87|_88|_89|_90|_91|_92|_93|_94|_95|_96|_97|_98|_99|_100|\n",
      "+------+------+---+---+---+---+---+---+---+---+---+---+---+---+---+---+---+---+---+---+---+---+---+---+---+---+---+---+---+---+---+---+---+---+---+---+---+---+---+---+---+---+---+---+---+---+---+---+---+---+---+---+---+---+---+---+---+---+---+---+---+---+---+---+---+---+---+---+---+---+---+---+---+---+---+---+---+---+---+---+---+---+---+---+---+---+---+---+---+---+---+---+---+---+---+---+---+---+---+----+\n",
      "|     6|     1|  1|  6|  4|  6|  6|  1|  4|  3|  2|  4|  3|  6|  5|  3|  2|  5|  1|  2|  2|  3|  5|  3|  1|  3|  4|  2|  5|  2|  6|  6|  6|  6|  6|  1|  6|  5|  4|  6|  4|  6|  2|  4|  5|  5|  1|  2|  1|  6|  2|  4|  1|  6|  6|  2|  1|  5|  4|  4|  4|  5|  3|  1|  5|  3|  4|  6|  1|  3|  5|  4|  1|  5|  3|  5|  5|  2|  2|  2|  2|  5|  2|  4|  5|  1|  5|  5|  3|  2|  3|  4|  1|  3|  5|  6|  1|  4|  1|   5|\n",
      "|     1|     4|  5|  6|  2|  2|  2|  6|  6|  6|  4|  5|  5|  1|  3|  1|  6|  1|  2|  6|  3|  5|  6|  3|  5|  5|  1|  1|  1|  3|  4|  4|  4|  6|  3|  4|  5|  5|  1|  4|  5|  3|  1|  3|  3|  2|  4|  3|  6|  2|  4|  2|  6|  2|  4|  2|  2|  6|  4|  3|  3|  3|  6|  4|  5|  4|  2|  3|  1|  1|  6|  5|  4|  5|  1|  1|  5|  6|  3|  3|  4|  5|  2|  2|  6|  2|  6|  4|  5|  3|  2|  5|  6|  4|  3|  6|  2|  4|  6|   6|\n",
      "|     9|    11|  6|  5| 12|  3|  6|  7|  3|  7|  8|  4|  6|  9|  8| 11|  6|  6|  4|  8|  4|  6|  6|  8|  4|  5|  5|  9|  7|  6|  7|  2| 11|  4|  3|  6| 10|  4|  7|  3|  8|  5|  9| 11|  3|  5|  5|  6|  7|  5|  9|  8|  3|  9|  4|  9|  6|  9|  6|  9|  7|  4|  6|  7|  6|  4|  6|  7|  6|  8|  2|  3|  7|  6| 10|  2|  5|  4|  9| 11|  6|  5|  5|  3| 11| 11|  9| 10|  5|  5|  6| 11|  8|  9|  9| 10|  8|  8| 10|   9|\n",
      "+------+------+---+---+---+---+---+---+---+---+---+---+---+---+---+---+---+---+---+---+---+---+---+---+---+---+---+---+---+---+---+---+---+---+---+---+---+---+---+---+---+---+---+---+---+---+---+---+---+---+---+---+---+---+---+---+---+---+---+---+---+---+---+---+---+---+---+---+---+---+---+---+---+---+---+---+---+---+---+---+---+---+---+---+---+---+---+---+---+---+---+---+---+---+---+---+---+---+---+----+\n",
      "\n"
     ]
    }
   ],
   "source": [
    "df.show()"
   ]
  },
  {
   "cell_type": "code",
   "execution_count": 16,
   "metadata": {},
   "outputs": [
    {
     "data": {
      "text/plain": [
       "(array([ 3.,  8., 10., 12., 19., 10., 10., 14.,  5.,  9.]),\n",
       " array([ 2.,  3.,  4.,  5.,  6.,  7.,  8.,  9., 10., 11., 12.]),\n",
       " <BarContainer object of 10 artists>)"
      ]
     },
     "execution_count": 16,
     "metadata": {},
     "output_type": "execute_result"
    },
    {
     "data": {
      "image/png": "[encoded data removed]",
      "text/plain": [
       "<Figure size 432x288 with 1 Axes>"
      ]
     },
     "metadata": {
      "needs_background": "light"
     },
     "output_type": "display_data"
    }
   ],
   "source": [
    "plt.hist(dsum)"
   ]
  },
  {
   "cell_type": "code",
   "execution_count": 17,
   "metadata": {},
   "outputs": [],
   "source": [
    "from zipfile import ZipFile"
   ]
  },
  {
   "cell_type": "code",
   "execution_count": 19,
   "metadata": {},
   "outputs": [],
   "source": [
    "zipObj = ZipFile('Homework3.zip', 'w')"
   ]
  },
  {
   "cell_type": "code",
   "execution_count": 20,
   "metadata": {},
   "outputs": [],
   "source": [
    "zipObj.write('Homework#3.ipynb')"
   ]
  },
  {
   "cell_type": "code",
   "execution_count": 21,
   "metadata": {},
   "outputs": [],
   "source": [
    "zipObj.close()"
   ]
  },
  {
   "cell_type": "code",
   "execution_count": null,
   "metadata": {},
   "outputs": [],
   "source": []
  }
 ],
 "metadata": {
  "kernelspec": {
   "display_name": "Python 3",
   "language": "python",
   "name": "python3"
  },
  "language_info": {
   "codemirror_mode": {
    "name": "ipython",
    "version": 3
   },
   "file_extension": ".py",
   "mimetype": "text/x-python",
   "name": "python",
   "nbconvert_exporter": "python",
   "pygments_lexer": "ipython3",
   "version": "3.7.10"
  }
 },
 "nbformat": 4,
 "nbformat_minor": 4
}
